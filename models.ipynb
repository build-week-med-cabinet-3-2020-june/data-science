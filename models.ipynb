{
  "nbformat": 4,
  "nbformat_minor": 0,
  "metadata": {
    "colab": {
      "name": "models.ipynb",
      "provenance": [],
      "collapsed_sections": []
    },
    "kernelspec": {
      "name": "python3",
      "display_name": "Python 3"
    }
  },
  "cells": [
    {
      "cell_type": "code",
      "metadata": {
        "id": "NRBAs0w10yDR",
        "colab_type": "code",
        "colab": {
          "base_uri": "https://localhost:8080/",
          "height": 52
        },
        "outputId": "b1315b62-e99e-4cac-dd8d-af5b6e0c1a2d"
      },
      "source": [
        "import numpy as np\n",
        "import pandas as pd\n",
        "\n",
        "import spacy\n",
        "import spacy.cli\n",
        "spacy.cli.download(\"en_core_web_lg\")\n",
        "import en_core_web_lg\n",
        "\n",
        "import re\n",
        "\n",
        "from sklearn.feature_extraction.text import TfidfVectorizer\n",
        "from sklearn.neighbors import NearestNeighbors\n",
        "from sklearn.model_selection import train_test_split\n",
        "from sklearn.ensemble import RandomForestClassifier\n",
        "from sklearn.pipeline import Pipeline\n",
        "from sklearn.metrics import accuracy_score\n",
        "from sklearn.metrics import confusion_matrix\n",
        "\n",
        "import joblib"
      ],
      "execution_count": 1,
      "outputs": [
        {
          "output_type": "stream",
          "text": [
            "\u001b[38;5;2m✔ Download and installation successful\u001b[0m\n",
            "You can now load the model via spacy.load('en_core_web_lg')\n"
          ],
          "name": "stdout"
        }
      ]
    },
    {
      "cell_type": "markdown",
      "metadata": {
        "id": "D07lFV6g6MKK",
        "colab_type": "text"
      },
      "source": [
        "# Model 1 - Type of Strain"
      ]
    },
    {
      "cell_type": "code",
      "metadata": {
        "id": "NoNBqB_22OmE",
        "colab_type": "code",
        "colab": {
          "base_uri": "https://localhost:8080/",
          "height": 206
        },
        "outputId": "947a305b-8ab2-420a-c3d3-67664a1a397c"
      },
      "source": [
        "dfnlp = pd.read_csv('merged.csv')\n",
        "dfnlp['Effects'] = dfnlp['Effects'].str.replace(',', ' ')\n",
        "df = dfnlp[['Effects' ,'Type']]\n",
        "df.head()"
      ],
      "execution_count": 2,
      "outputs": [
        {
          "output_type": "execute_result",
          "data": {
            "text/html": [
              "<div>\n",
              "<style scoped>\n",
              "    .dataframe tbody tr th:only-of-type {\n",
              "        vertical-align: middle;\n",
              "    }\n",
              "\n",
              "    .dataframe tbody tr th {\n",
              "        vertical-align: top;\n",
              "    }\n",
              "\n",
              "    .dataframe thead th {\n",
              "        text-align: right;\n",
              "    }\n",
              "</style>\n",
              "<table border=\"1\" class=\"dataframe\">\n",
              "  <thead>\n",
              "    <tr style=\"text-align: right;\">\n",
              "      <th></th>\n",
              "      <th>Effects</th>\n",
              "      <th>Type</th>\n",
              "    </tr>\n",
              "  </thead>\n",
              "  <tbody>\n",
              "    <tr>\n",
              "      <th>0</th>\n",
              "      <td>Creative Energetic Tingly Euphoric Relaxed</td>\n",
              "      <td>hybrid</td>\n",
              "    </tr>\n",
              "    <tr>\n",
              "      <th>1</th>\n",
              "      <td>Uplifted Happy Relaxed Energetic Creative</td>\n",
              "      <td>sativa</td>\n",
              "    </tr>\n",
              "    <tr>\n",
              "      <th>2</th>\n",
              "      <td>Tingly Creative Hungry Relaxed Uplifted</td>\n",
              "      <td>hybrid</td>\n",
              "    </tr>\n",
              "    <tr>\n",
              "      <th>3</th>\n",
              "      <td>Happy Relaxed Euphoric Uplifted Talkative</td>\n",
              "      <td>hybrid</td>\n",
              "    </tr>\n",
              "    <tr>\n",
              "      <th>4</th>\n",
              "      <td>Relaxed Euphoric Happy Uplifted Hungry</td>\n",
              "      <td>hybrid</td>\n",
              "    </tr>\n",
              "  </tbody>\n",
              "</table>\n",
              "</div>"
            ],
            "text/plain": [
              "                                      Effects    Type\n",
              "0  Creative Energetic Tingly Euphoric Relaxed  hybrid\n",
              "1   Uplifted Happy Relaxed Energetic Creative  sativa\n",
              "2     Tingly Creative Hungry Relaxed Uplifted  hybrid\n",
              "3   Happy Relaxed Euphoric Uplifted Talkative  hybrid\n",
              "4      Relaxed Euphoric Happy Uplifted Hungry  hybrid"
            ]
          },
          "metadata": {
            "tags": []
          },
          "execution_count": 2
        }
      ]
    },
    {
      "cell_type": "code",
      "metadata": {
        "id": "hGiBwMg02Ool",
        "colab_type": "code",
        "colab": {}
      },
      "source": [
        "nlp = en_core_web_lg.load()"
      ],
      "execution_count": 3,
      "outputs": []
    },
    {
      "cell_type": "code",
      "metadata": {
        "id": "7Iz4lT2H2OrE",
        "colab_type": "code",
        "colab": {
          "base_uri": "https://localhost:8080/",
          "height": 193
        },
        "outputId": "a54f03ea-86d0-45a1-fada-6a970d65ad56"
      },
      "source": [
        "import re\n",
        "\n",
        "def tokenize(text):\n",
        "    \"\"\"Parses a string into a list of semantic units (words)\n",
        "\n",
        "    Args:\n",
        "        text (str): The string that the function will tokenize.\n",
        "\n",
        "    Returns:\n",
        "        list: tokens parsed out by the mechanics of your choice\n",
        "    \"\"\"\n",
        "    \n",
        "    tokens = re.sub('[^a-zA-Z 0-9]', ' ', text)\n",
        "    tokens = tokens.lower().split()\n",
        "    \n",
        "    return tokens\n",
        "\n",
        "df['base_tokens'] = df['Effects'].apply(tokenize)\n",
        "df['base_tokens'][0:3]"
      ],
      "execution_count": 4,
      "outputs": [
        {
          "output_type": "stream",
          "text": [
            "/usr/local/lib/python3.6/dist-packages/ipykernel_launcher.py:18: SettingWithCopyWarning: \n",
            "A value is trying to be set on a copy of a slice from a DataFrame.\n",
            "Try using .loc[row_indexer,col_indexer] = value instead\n",
            "\n",
            "See the caveats in the documentation: https://pandas.pydata.org/pandas-docs/stable/user_guide/indexing.html#returning-a-view-versus-a-copy\n"
          ],
          "name": "stderr"
        },
        {
          "output_type": "execute_result",
          "data": {
            "text/plain": [
              "0    [creative, energetic, tingly, euphoric, relaxed]\n",
              "1     [uplifted, happy, relaxed, energetic, creative]\n",
              "2       [tingly, creative, hungry, relaxed, uplifted]\n",
              "Name: base_tokens, dtype: object"
            ]
          },
          "metadata": {
            "tags": []
          },
          "execution_count": 4
        }
      ]
    },
    {
      "cell_type": "code",
      "metadata": {
        "id": "6T305wcD2OtT",
        "colab_type": "code",
        "colab": {}
      },
      "source": [
        "doc = nlp(df['base_tokens'].to_string())\n",
        "nlp_vector = doc.vector"
      ],
      "execution_count": 5,
      "outputs": []
    },
    {
      "cell_type": "code",
      "metadata": {
        "id": "9kfvwDez2Ov0",
        "colab_type": "code",
        "colab": {
          "base_uri": "https://localhost:8080/",
          "height": 34
        },
        "outputId": "4c127d31-588b-43ef-ca36-51f1fa11900a"
      },
      "source": [
        "X_train, X_test, y_train, y_test = train_test_split(df['Effects'], \n",
        "                                                    df['Type'], \n",
        "                                                    test_size=0.2, \n",
        "                                                    stratify=df['Type'],\n",
        "                                                    random_state=42)\n",
        "\n",
        "print(X_train.shape, X_test.shape, y_train.shape, y_test.shape)"
      ],
      "execution_count": 6,
      "outputs": [
        {
          "output_type": "stream",
          "text": [
            "(1412,) (354,) (1412,) (354,)\n"
          ],
          "name": "stdout"
        }
      ]
    },
    {
      "cell_type": "code",
      "metadata": {
        "id": "xVkO6AXl3AMJ",
        "colab_type": "code",
        "colab": {}
      },
      "source": [
        "def get_tokens(document):\n",
        "    doc = nlp(document)\n",
        "    return [token.lemma_ for token in doc if (token.is_stop != True) and (token.is_punct != True)]"
      ],
      "execution_count": 7,
      "outputs": []
    },
    {
      "cell_type": "code",
      "metadata": {
        "id": "q7cK_6103AOm",
        "colab_type": "code",
        "colab": {}
      },
      "source": [
        "vect = TfidfVectorizer(stop_words='english', ngram_range=(1,2), tokenizer=get_tokens)\n",
        "rfc = RandomForestClassifier(random_state=42)"
      ],
      "execution_count": 8,
      "outputs": []
    },
    {
      "cell_type": "code",
      "metadata": {
        "id": "5TzxHxwl3ARA",
        "colab_type": "code",
        "colab": {}
      },
      "source": [
        "# This is an alternative model where the target's classes are balanced\n",
        "\n",
        "rfc2 = RandomForestClassifier(class_weight=\"balanced\", random_state=42)"
      ],
      "execution_count": 9,
      "outputs": []
    },
    {
      "cell_type": "code",
      "metadata": {
        "id": "0vaBKX1A3GMf",
        "colab_type": "code",
        "colab": {
          "base_uri": "https://localhost:8080/",
          "height": 34
        },
        "outputId": "6fb6c2a1-5232-4663-907b-8a853710695d"
      },
      "source": [
        "def get_word_vectors(docs):\n",
        "    return [nlp(doc).vector for doc in docs]\n",
        "\n",
        "X = get_word_vectors(X_train)\n",
        "len(X) == len(X_train)"
      ],
      "execution_count": 10,
      "outputs": [
        {
          "output_type": "execute_result",
          "data": {
            "text/plain": [
              "True"
            ]
          },
          "metadata": {
            "tags": []
          },
          "execution_count": 10
        }
      ]
    },
    {
      "cell_type": "code",
      "metadata": {
        "id": "RbMxueJJ3t3G",
        "colab_type": "code",
        "colab": {
          "base_uri": "https://localhost:8080/",
          "height": 34
        },
        "outputId": "2fc12d02-482b-4eaf-918f-78c989cc78c0"
      },
      "source": [
        "XT = get_word_vectors(X_test)\n",
        "len(XT) == len(X_test)"
      ],
      "execution_count": 11,
      "outputs": [
        {
          "output_type": "execute_result",
          "data": {
            "text/plain": [
              "True"
            ]
          },
          "metadata": {
            "tags": []
          },
          "execution_count": 11
        }
      ]
    },
    {
      "cell_type": "code",
      "metadata": {
        "id": "S5b9aFQg3GO1",
        "colab_type": "code",
        "colab": {
          "base_uri": "https://localhost:8080/",
          "height": 156
        },
        "outputId": "87938cec-7213-4875-8d24-4a7625d4dde2"
      },
      "source": [
        "rfc.fit(X, y_train)"
      ],
      "execution_count": 12,
      "outputs": [
        {
          "output_type": "execute_result",
          "data": {
            "text/plain": [
              "RandomForestClassifier(bootstrap=True, ccp_alpha=0.0, class_weight=None,\n",
              "                       criterion='gini', max_depth=None, max_features='auto',\n",
              "                       max_leaf_nodes=None, max_samples=None,\n",
              "                       min_impurity_decrease=0.0, min_impurity_split=None,\n",
              "                       min_samples_leaf=1, min_samples_split=2,\n",
              "                       min_weight_fraction_leaf=0.0, n_estimators=100,\n",
              "                       n_jobs=None, oob_score=False, random_state=42, verbose=0,\n",
              "                       warm_start=False)"
            ]
          },
          "metadata": {
            "tags": []
          },
          "execution_count": 12
        }
      ]
    },
    {
      "cell_type": "code",
      "metadata": {
        "id": "DLQX9MIe3GRd",
        "colab_type": "code",
        "colab": {
          "base_uri": "https://localhost:8080/",
          "height": 156
        },
        "outputId": "f6ab923c-91aa-44ad-bb0a-d764e5d0b8c1"
      },
      "source": [
        "rfc2.fit(X, y_train)"
      ],
      "execution_count": 13,
      "outputs": [
        {
          "output_type": "execute_result",
          "data": {
            "text/plain": [
              "RandomForestClassifier(bootstrap=True, ccp_alpha=0.0, class_weight='balanced',\n",
              "                       criterion='gini', max_depth=None, max_features='auto',\n",
              "                       max_leaf_nodes=None, max_samples=None,\n",
              "                       min_impurity_decrease=0.0, min_impurity_split=None,\n",
              "                       min_samples_leaf=1, min_samples_split=2,\n",
              "                       min_weight_fraction_leaf=0.0, n_estimators=100,\n",
              "                       n_jobs=None, oob_score=False, random_state=42, verbose=0,\n",
              "                       warm_start=False)"
            ]
          },
          "metadata": {
            "tags": []
          },
          "execution_count": 13
        }
      ]
    },
    {
      "cell_type": "code",
      "metadata": {
        "id": "HJ6pyrrP3ATb",
        "colab_type": "code",
        "colab": {
          "base_uri": "https://localhost:8080/",
          "height": 34
        },
        "outputId": "a85e4a8d-226e-4a89-f1c0-d9b612a51568"
      },
      "source": [
        "# Unbalanced classes\n",
        "\n",
        "# Evaluate on test data\n",
        "y_pred = rfc.predict(XT)\n",
        "accuracy_score(y_test, y_pred)"
      ],
      "execution_count": 14,
      "outputs": [
        {
          "output_type": "execute_result",
          "data": {
            "text/plain": [
              "0.576271186440678"
            ]
          },
          "metadata": {
            "tags": []
          },
          "execution_count": 14
        }
      ]
    },
    {
      "cell_type": "code",
      "metadata": {
        "id": "jmN1xpGe3evh",
        "colab_type": "code",
        "colab": {
          "base_uri": "https://localhost:8080/",
          "height": 69
        },
        "outputId": "1a7381fe-32f9-4c22-f138-435a09def5a8"
      },
      "source": [
        "# Let's use a confusion matrix to check how accurately the model classified \n",
        "# the test set\n",
        "\n",
        "# The order of the classes are:\n",
        "# hybrid - indica - sativa\n",
        "\n",
        "confusion_matrix(y_test, y_pred, labels=[\"hybrid\", \"indica\", \"sativa\"])"
      ],
      "execution_count": 15,
      "outputs": [
        {
          "output_type": "execute_result",
          "data": {
            "text/plain": [
              "array([[74, 41, 29],\n",
              "       [35, 90,  4],\n",
              "       [32,  9, 40]])"
            ]
          },
          "metadata": {
            "tags": []
          },
          "execution_count": 15
        }
      ]
    },
    {
      "cell_type": "code",
      "metadata": {
        "id": "3PMEPx9S3ezC",
        "colab_type": "code",
        "colab": {
          "base_uri": "https://localhost:8080/",
          "height": 104
        },
        "outputId": "f62bb0b3-6004-4add-fb92-ced4905a77e0"
      },
      "source": [
        "# Balanced classes\n",
        "\n",
        "# Evaluate on test data\n",
        "y_pred2 = rfc2.predict(XT)\n",
        "print(accuracy_score(y_test, y_pred2))\n",
        "print()\n",
        "confusion_matrix(y_test, y_pred2, labels=[\"hybrid\", \"indica\", \"sativa\"])\n",
        "\n",
        "# The class weights aren't unbalanced enough to yield a positive difference \n",
        "# with the \"class_weight\" parameter"
      ],
      "execution_count": 16,
      "outputs": [
        {
          "output_type": "stream",
          "text": [
            "0.5677966101694916\n",
            "\n"
          ],
          "name": "stdout"
        },
        {
          "output_type": "execute_result",
          "data": {
            "text/plain": [
              "array([[69, 41, 34],\n",
              "       [33, 89,  7],\n",
              "       [28, 10, 43]])"
            ]
          },
          "metadata": {
            "tags": []
          },
          "execution_count": 16
        }
      ]
    },
    {
      "cell_type": "code",
      "metadata": {
        "id": "fiSxgtPo3e9q",
        "colab_type": "code",
        "colab": {
          "base_uri": "https://localhost:8080/",
          "height": 86
        },
        "outputId": "269fc605-3818-44de-a9f4-450e2864bba7"
      },
      "source": [
        "df['Type'].value_counts(normalize=True)\n",
        "\n",
        "# Our majority class baseline is 40% and our accuracy surpasses that so we're\n",
        "# in good shape"
      ],
      "execution_count": 17,
      "outputs": [
        {
          "output_type": "execute_result",
          "data": {
            "text/plain": [
              "hybrid    0.406569\n",
              "indica    0.365798\n",
              "sativa    0.227633\n",
              "Name: Type, dtype: float64"
            ]
          },
          "metadata": {
            "tags": []
          },
          "execution_count": 17
        }
      ]
    },
    {
      "cell_type": "code",
      "metadata": {
        "id": "LsY5JUy25aLz",
        "colab_type": "code",
        "colab": {
          "base_uri": "https://localhost:8080/",
          "height": 34
        },
        "outputId": "114a85ab-1025-44cd-94dc-2fe503900d84"
      },
      "source": [
        "# Let's test some predictions\n",
        "\n",
        "sample_request = ['Happy']\n",
        "custom = get_word_vectors(sample_request)\n",
        "rfc.predict(custom)"
      ],
      "execution_count": 18,
      "outputs": [
        {
          "output_type": "execute_result",
          "data": {
            "text/plain": [
              "array(['hybrid'], dtype=object)"
            ]
          },
          "metadata": {
            "tags": []
          },
          "execution_count": 18
        }
      ]
    },
    {
      "cell_type": "code",
      "metadata": {
        "id": "TnKBGwiE5d3l",
        "colab_type": "code",
        "colab": {
          "base_uri": "https://localhost:8080/",
          "height": 34
        },
        "outputId": "d0dd7ebe-1674-4503-a3a9-22a324ef31a8"
      },
      "source": [
        "sample_request2 = ['Uplifted,Happy,Relaxed,Energetic,Creative']\n",
        "custom2 = get_word_vectors(sample_request2)\n",
        "rfc.predict(custom2)"
      ],
      "execution_count": 19,
      "outputs": [
        {
          "output_type": "execute_result",
          "data": {
            "text/plain": [
              "array(['hybrid'], dtype=object)"
            ]
          },
          "metadata": {
            "tags": []
          },
          "execution_count": 19
        }
      ]
    },
    {
      "cell_type": "code",
      "metadata": {
        "id": "FUiXx4bs5d58",
        "colab_type": "code",
        "colab": {
          "base_uri": "https://localhost:8080/",
          "height": 295
        },
        "outputId": "1f6113cd-35a9-4894-e90f-310c3412907e"
      },
      "source": [
        "# If you want to try out your own sample_request, here are all the unique\n",
        "# values for feelings that the model will take. Additionally, words that\n",
        "# are similar to the words listed here (such as 'Calm' instead of 'Relaxed')\n",
        "# should yield similar results\n",
        "\n",
        "from collections import Counter\n",
        "word_counts = Counter()\n",
        "df['base_tokens'].apply(lambda x: word_counts.update(x))\n",
        "word_counts.most_common(20)"
      ],
      "execution_count": 20,
      "outputs": [
        {
          "output_type": "execute_result",
          "data": {
            "text/plain": [
              "[('happy', 1466),\n",
              " ('relaxed', 1352),\n",
              " ('euphoric', 1273),\n",
              " ('uplifted', 1146),\n",
              " ('sleepy', 612),\n",
              " ('creative', 537),\n",
              " ('energetic', 476),\n",
              " ('focused', 446),\n",
              " ('hungry', 392),\n",
              " ('tingly', 255),\n",
              " ('talkative', 247),\n",
              " ('giggly', 211),\n",
              " ('aroused', 139),\n",
              " ('none', 37),\n",
              " ('dry', 1),\n",
              " ('mouth', 1)]"
            ]
          },
          "metadata": {
            "tags": []
          },
          "execution_count": 20
        }
      ]
    },
    {
      "cell_type": "code",
      "metadata": {
        "id": "UmVQzUDl5d8d",
        "colab_type": "code",
        "colab": {}
      },
      "source": [
        "# Here are some observations for each specific class:"
      ],
      "execution_count": 21,
      "outputs": []
    },
    {
      "cell_type": "code",
      "metadata": {
        "id": "91sCrTD_5xiG",
        "colab_type": "code",
        "colab": {
          "base_uri": "https://localhost:8080/",
          "height": 143
        },
        "outputId": "68a2104a-d438-4a89-e36d-ffbfa6377d86"
      },
      "source": [
        "df.loc[df['Type'] == 'hybrid'][0:3]"
      ],
      "execution_count": 22,
      "outputs": [
        {
          "output_type": "execute_result",
          "data": {
            "text/html": [
              "<div>\n",
              "<style scoped>\n",
              "    .dataframe tbody tr th:only-of-type {\n",
              "        vertical-align: middle;\n",
              "    }\n",
              "\n",
              "    .dataframe tbody tr th {\n",
              "        vertical-align: top;\n",
              "    }\n",
              "\n",
              "    .dataframe thead th {\n",
              "        text-align: right;\n",
              "    }\n",
              "</style>\n",
              "<table border=\"1\" class=\"dataframe\">\n",
              "  <thead>\n",
              "    <tr style=\"text-align: right;\">\n",
              "      <th></th>\n",
              "      <th>Effects</th>\n",
              "      <th>Type</th>\n",
              "      <th>base_tokens</th>\n",
              "    </tr>\n",
              "  </thead>\n",
              "  <tbody>\n",
              "    <tr>\n",
              "      <th>0</th>\n",
              "      <td>Creative Energetic Tingly Euphoric Relaxed</td>\n",
              "      <td>hybrid</td>\n",
              "      <td>[creative, energetic, tingly, euphoric, relaxed]</td>\n",
              "    </tr>\n",
              "    <tr>\n",
              "      <th>2</th>\n",
              "      <td>Tingly Creative Hungry Relaxed Uplifted</td>\n",
              "      <td>hybrid</td>\n",
              "      <td>[tingly, creative, hungry, relaxed, uplifted]</td>\n",
              "    </tr>\n",
              "    <tr>\n",
              "      <th>3</th>\n",
              "      <td>Happy Relaxed Euphoric Uplifted Talkative</td>\n",
              "      <td>hybrid</td>\n",
              "      <td>[happy, relaxed, euphoric, uplifted, talkative]</td>\n",
              "    </tr>\n",
              "  </tbody>\n",
              "</table>\n",
              "</div>"
            ],
            "text/plain": [
              "                                      Effects  ...                                       base_tokens\n",
              "0  Creative Energetic Tingly Euphoric Relaxed  ...  [creative, energetic, tingly, euphoric, relaxed]\n",
              "2     Tingly Creative Hungry Relaxed Uplifted  ...     [tingly, creative, hungry, relaxed, uplifted]\n",
              "3   Happy Relaxed Euphoric Uplifted Talkative  ...   [happy, relaxed, euphoric, uplifted, talkative]\n",
              "\n",
              "[3 rows x 3 columns]"
            ]
          },
          "metadata": {
            "tags": []
          },
          "execution_count": 22
        }
      ]
    },
    {
      "cell_type": "code",
      "metadata": {
        "id": "vggS3Idu5xm_",
        "colab_type": "code",
        "colab": {
          "base_uri": "https://localhost:8080/",
          "height": 143
        },
        "outputId": "85bd2d29-c66c-427c-c741-6b6ac5adbdc9"
      },
      "source": [
        "df.loc[df['Type'] == 'indica'][0:3]"
      ],
      "execution_count": 23,
      "outputs": [
        {
          "output_type": "execute_result",
          "data": {
            "text/html": [
              "<div>\n",
              "<style scoped>\n",
              "    .dataframe tbody tr th:only-of-type {\n",
              "        vertical-align: middle;\n",
              "    }\n",
              "\n",
              "    .dataframe tbody tr th {\n",
              "        vertical-align: top;\n",
              "    }\n",
              "\n",
              "    .dataframe thead th {\n",
              "        text-align: right;\n",
              "    }\n",
              "</style>\n",
              "<table border=\"1\" class=\"dataframe\">\n",
              "  <thead>\n",
              "    <tr style=\"text-align: right;\">\n",
              "      <th></th>\n",
              "      <th>Effects</th>\n",
              "      <th>Type</th>\n",
              "      <th>base_tokens</th>\n",
              "    </tr>\n",
              "  </thead>\n",
              "  <tbody>\n",
              "    <tr>\n",
              "      <th>5</th>\n",
              "      <td>Relaxed Happy Euphoric Uplifted Giggly</td>\n",
              "      <td>indica</td>\n",
              "      <td>[relaxed, happy, euphoric, uplifted, giggly]</td>\n",
              "    </tr>\n",
              "    <tr>\n",
              "      <th>7</th>\n",
              "      <td>Relaxed Tingly Happy Euphoric Uplifted</td>\n",
              "      <td>indica</td>\n",
              "      <td>[relaxed, tingly, happy, euphoric, uplifted]</td>\n",
              "    </tr>\n",
              "    <tr>\n",
              "      <th>9</th>\n",
              "      <td>Relaxed Focused Euphoric Uplifted Aroused</td>\n",
              "      <td>indica</td>\n",
              "      <td>[relaxed, focused, euphoric, uplifted, aroused]</td>\n",
              "    </tr>\n",
              "  </tbody>\n",
              "</table>\n",
              "</div>"
            ],
            "text/plain": [
              "                                     Effects  ...                                      base_tokens\n",
              "5     Relaxed Happy Euphoric Uplifted Giggly  ...     [relaxed, happy, euphoric, uplifted, giggly]\n",
              "7     Relaxed Tingly Happy Euphoric Uplifted  ...     [relaxed, tingly, happy, euphoric, uplifted]\n",
              "9  Relaxed Focused Euphoric Uplifted Aroused  ...  [relaxed, focused, euphoric, uplifted, aroused]\n",
              "\n",
              "[3 rows x 3 columns]"
            ]
          },
          "metadata": {
            "tags": []
          },
          "execution_count": 23
        }
      ]
    },
    {
      "cell_type": "code",
      "metadata": {
        "id": "azAX8BEz5xsp",
        "colab_type": "code",
        "colab": {
          "base_uri": "https://localhost:8080/",
          "height": 143
        },
        "outputId": "3525c80b-9035-4aab-91ea-d6a9f30feb50"
      },
      "source": [
        "df.loc[df['Type'] == 'sativa'][0:3]"
      ],
      "execution_count": 24,
      "outputs": [
        {
          "output_type": "execute_result",
          "data": {
            "text/html": [
              "<div>\n",
              "<style scoped>\n",
              "    .dataframe tbody tr th:only-of-type {\n",
              "        vertical-align: middle;\n",
              "    }\n",
              "\n",
              "    .dataframe tbody tr th {\n",
              "        vertical-align: top;\n",
              "    }\n",
              "\n",
              "    .dataframe thead th {\n",
              "        text-align: right;\n",
              "    }\n",
              "</style>\n",
              "<table border=\"1\" class=\"dataframe\">\n",
              "  <thead>\n",
              "    <tr style=\"text-align: right;\">\n",
              "      <th></th>\n",
              "      <th>Effects</th>\n",
              "      <th>Type</th>\n",
              "      <th>base_tokens</th>\n",
              "    </tr>\n",
              "  </thead>\n",
              "  <tbody>\n",
              "    <tr>\n",
              "      <th>1</th>\n",
              "      <td>Uplifted Happy Relaxed Energetic Creative</td>\n",
              "      <td>sativa</td>\n",
              "      <td>[uplifted, happy, relaxed, energetic, creative]</td>\n",
              "    </tr>\n",
              "    <tr>\n",
              "      <th>6</th>\n",
              "      <td>Uplifted Focused Happy Talkative Relaxed</td>\n",
              "      <td>sativa</td>\n",
              "      <td>[uplifted, focused, happy, talkative, relaxed]</td>\n",
              "    </tr>\n",
              "    <tr>\n",
              "      <th>24</th>\n",
              "      <td>Happy Uplifted Euphoric Energetic Relaxed</td>\n",
              "      <td>sativa</td>\n",
              "      <td>[happy, uplifted, euphoric, energetic, relaxed]</td>\n",
              "    </tr>\n",
              "  </tbody>\n",
              "</table>\n",
              "</div>"
            ],
            "text/plain": [
              "                                      Effects  ...                                      base_tokens\n",
              "1   Uplifted Happy Relaxed Energetic Creative  ...  [uplifted, happy, relaxed, energetic, creative]\n",
              "6    Uplifted Focused Happy Talkative Relaxed  ...   [uplifted, focused, happy, talkative, relaxed]\n",
              "24  Happy Uplifted Euphoric Energetic Relaxed  ...  [happy, uplifted, euphoric, energetic, relaxed]\n",
              "\n",
              "[3 rows x 3 columns]"
            ]
          },
          "metadata": {
            "tags": []
          },
          "execution_count": 24
        }
      ]
    },
    {
      "cell_type": "code",
      "metadata": {
        "id": "Kp03LQNP6Cf3",
        "colab_type": "code",
        "colab": {
          "base_uri": "https://localhost:8080/",
          "height": 34
        },
        "outputId": "e1da99ac-9e4e-4fe2-b6d7-068b440b469b"
      },
      "source": [
        "sample_request3 = ['hyper, drowsy, ecstatic']\n",
        "custom3 = get_word_vectors(sample_request3)\n",
        "rfc.predict(custom3)"
      ],
      "execution_count": 25,
      "outputs": [
        {
          "output_type": "execute_result",
          "data": {
            "text/plain": [
              "array(['hybrid'], dtype=object)"
            ]
          },
          "metadata": {
            "tags": []
          },
          "execution_count": 25
        }
      ]
    },
    {
      "cell_type": "code",
      "metadata": {
        "id": "Nwv9jFxd6Ehj",
        "colab_type": "code",
        "colab": {
          "base_uri": "https://localhost:8080/",
          "height": 34
        },
        "outputId": "e853ba90-2bbe-4850-c7c9-403ba269cd09"
      },
      "source": [
        "sample_request4 = ['this is a stress test of the predictive model']\n",
        "custom4 = get_word_vectors(sample_request4)\n",
        "rfc.predict(custom4)"
      ],
      "execution_count": 26,
      "outputs": [
        {
          "output_type": "execute_result",
          "data": {
            "text/plain": [
              "array(['sativa'], dtype=object)"
            ]
          },
          "metadata": {
            "tags": []
          },
          "execution_count": 26
        }
      ]
    },
    {
      "cell_type": "code",
      "metadata": {
        "id": "avn_j6UGUHcy",
        "colab_type": "code",
        "colab": {}
      },
      "source": [
        "# Pickling the model\n",
        "\n",
        "# joblib.dump(rfc, 'rfc_lg.joblib')"
      ],
      "execution_count": 27,
      "outputs": []
    },
    {
      "cell_type": "markdown",
      "metadata": {
        "id": "3U8Su3IN6UnF",
        "colab_type": "text"
      },
      "source": [
        "# Model 2 - Strain Recommendation"
      ]
    },
    {
      "cell_type": "code",
      "metadata": {
        "id": "MZSX-ZeH6cC0",
        "colab_type": "code",
        "colab": {
          "base_uri": "https://localhost:8080/",
          "height": 206
        },
        "outputId": "e6a468c1-9f8a-4c04-e8dd-ee06f7b0c972"
      },
      "source": [
        "dfx = dfnlp[['Effects' ,'Strain']]\n",
        "dfx.head()"
      ],
      "execution_count": 28,
      "outputs": [
        {
          "output_type": "execute_result",
          "data": {
            "text/html": [
              "<div>\n",
              "<style scoped>\n",
              "    .dataframe tbody tr th:only-of-type {\n",
              "        vertical-align: middle;\n",
              "    }\n",
              "\n",
              "    .dataframe tbody tr th {\n",
              "        vertical-align: top;\n",
              "    }\n",
              "\n",
              "    .dataframe thead th {\n",
              "        text-align: right;\n",
              "    }\n",
              "</style>\n",
              "<table border=\"1\" class=\"dataframe\">\n",
              "  <thead>\n",
              "    <tr style=\"text-align: right;\">\n",
              "      <th></th>\n",
              "      <th>Effects</th>\n",
              "      <th>Strain</th>\n",
              "    </tr>\n",
              "  </thead>\n",
              "  <tbody>\n",
              "    <tr>\n",
              "      <th>0</th>\n",
              "      <td>Creative Energetic Tingly Euphoric Relaxed</td>\n",
              "      <td>100-Og</td>\n",
              "    </tr>\n",
              "    <tr>\n",
              "      <th>1</th>\n",
              "      <td>Uplifted Happy Relaxed Energetic Creative</td>\n",
              "      <td>1024</td>\n",
              "    </tr>\n",
              "    <tr>\n",
              "      <th>2</th>\n",
              "      <td>Tingly Creative Hungry Relaxed Uplifted</td>\n",
              "      <td>13-Dawgs</td>\n",
              "    </tr>\n",
              "    <tr>\n",
              "      <th>3</th>\n",
              "      <td>Happy Relaxed Euphoric Uplifted Talkative</td>\n",
              "      <td>24K-Gold</td>\n",
              "    </tr>\n",
              "    <tr>\n",
              "      <th>4</th>\n",
              "      <td>Relaxed Euphoric Happy Uplifted Hungry</td>\n",
              "      <td>3-Kings</td>\n",
              "    </tr>\n",
              "  </tbody>\n",
              "</table>\n",
              "</div>"
            ],
            "text/plain": [
              "                                      Effects    Strain\n",
              "0  Creative Energetic Tingly Euphoric Relaxed    100-Og\n",
              "1   Uplifted Happy Relaxed Energetic Creative      1024\n",
              "2     Tingly Creative Hungry Relaxed Uplifted  13-Dawgs\n",
              "3   Happy Relaxed Euphoric Uplifted Talkative  24K-Gold\n",
              "4      Relaxed Euphoric Happy Uplifted Hungry   3-Kings"
            ]
          },
          "metadata": {
            "tags": []
          },
          "execution_count": 28
        }
      ]
    },
    {
      "cell_type": "code",
      "metadata": {
        "id": "_HczV2DR6lzg",
        "colab_type": "code",
        "colab": {
          "base_uri": "https://localhost:8080/",
          "height": 280
        },
        "outputId": "69c3cf20-25cb-4535-ec8e-e107a42d7957"
      },
      "source": [
        "dfx['base_tokens'] = dfx['Effects'].apply(tokenize)\n",
        "\n",
        "doc = nlp(dfx['base_tokens'].to_string())\n",
        "nlp_vector = doc.vector\n",
        "\n",
        "X_train2, X_test2, y_train2, y_test2 = train_test_split(dfx['Effects'], \n",
        "                                                    dfx['Strain'], \n",
        "                                                    # test_size=0.2, \n",
        "                                                    test_size=0.000001, \n",
        "                                                    # stratify=df['Strain'],\n",
        "                                                    random_state=42)\n",
        "\n",
        "XT = get_word_vectors(X_train2)\n",
        "len(XT) == len(X_train2)\n",
        "\n",
        "rfc_strains = RandomForestClassifier(random_state=42)\n",
        "\n",
        "rfc_strains.fit(XT, y_train2)"
      ],
      "execution_count": 29,
      "outputs": [
        {
          "output_type": "stream",
          "text": [
            "/usr/local/lib/python3.6/dist-packages/ipykernel_launcher.py:1: SettingWithCopyWarning: \n",
            "A value is trying to be set on a copy of a slice from a DataFrame.\n",
            "Try using .loc[row_indexer,col_indexer] = value instead\n",
            "\n",
            "See the caveats in the documentation: https://pandas.pydata.org/pandas-docs/stable/user_guide/indexing.html#returning-a-view-versus-a-copy\n",
            "  \"\"\"Entry point for launching an IPython kernel.\n"
          ],
          "name": "stderr"
        },
        {
          "output_type": "execute_result",
          "data": {
            "text/plain": [
              "RandomForestClassifier(bootstrap=True, ccp_alpha=0.0, class_weight=None,\n",
              "                       criterion='gini', max_depth=None, max_features='auto',\n",
              "                       max_leaf_nodes=None, max_samples=None,\n",
              "                       min_impurity_decrease=0.0, min_impurity_split=None,\n",
              "                       min_samples_leaf=1, min_samples_split=2,\n",
              "                       min_weight_fraction_leaf=0.0, n_estimators=100,\n",
              "                       n_jobs=None, oob_score=False, random_state=42, verbose=0,\n",
              "                       warm_start=False)"
            ]
          },
          "metadata": {
            "tags": []
          },
          "execution_count": 29
        }
      ]
    },
    {
      "cell_type": "code",
      "metadata": {
        "id": "1Mi75tMR6l8w",
        "colab_type": "code",
        "colab": {
          "base_uri": "https://localhost:8080/",
          "height": 34
        },
        "outputId": "3f5e78d2-3dba-4ddd-c10c-bb6089d1a477"
      },
      "source": [
        "sample_requestx1 = ['Happy']\n",
        "customx1 = get_word_vectors(sample_requestx1)\n",
        "rfc_strains.predict(customx1)"
      ],
      "execution_count": 30,
      "outputs": [
        {
          "output_type": "execute_result",
          "data": {
            "text/plain": [
              "array(['Double-Tap'], dtype=object)"
            ]
          },
          "metadata": {
            "tags": []
          },
          "execution_count": 30
        }
      ]
    },
    {
      "cell_type": "code",
      "metadata": {
        "id": "Q7qF-Y9G6l_P",
        "colab_type": "code",
        "colab": {
          "base_uri": "https://localhost:8080/",
          "height": 34
        },
        "outputId": "4722a252-688b-4823-8d98-74e1722bafcf"
      },
      "source": [
        "sample_requestx2 = ['hyper, drowsy, ecstatic']\n",
        "customx2 = get_word_vectors(sample_requestx2)\n",
        "rfc_strains.predict(customx2)[0:3]"
      ],
      "execution_count": 31,
      "outputs": [
        {
          "output_type": "execute_result",
          "data": {
            "text/plain": [
              "array(['Purple-Swish'], dtype=object)"
            ]
          },
          "metadata": {
            "tags": []
          },
          "execution_count": 31
        }
      ]
    },
    {
      "cell_type": "code",
      "metadata": {
        "id": "k4l-SSyjUj1F",
        "colab_type": "code",
        "colab": {}
      },
      "source": [
        "# Pickling the model\n",
        "# joblib.dump(rfc, 'rfc_lg_strain.joblib')"
      ],
      "execution_count": 32,
      "outputs": []
    },
    {
      "cell_type": "code",
      "metadata": {
        "id": "Jh_iMRVC-_EK",
        "colab_type": "code",
        "colab": {}
      },
      "source": [
        ""
      ],
      "execution_count": 32,
      "outputs": []
    },
    {
      "cell_type": "markdown",
      "metadata": {
        "id": "Hn6sfRkE-_bw",
        "colab_type": "text"
      },
      "source": [
        "# Code for App Implementation"
      ]
    },
    {
      "cell_type": "code",
      "metadata": {
        "id": "DJ1miRqNPy1I",
        "colab_type": "code",
        "colab": {}
      },
      "source": [
        "# import spacy\n",
        "# import spacy.cli\n",
        "# spacy.cli.download(\"en_core_web_lg\")\n",
        "# import en_core_web_lg\n",
        "# from joblib import load\n",
        "# \n",
        "# nlp = en_core_web_lg.load()\n",
        "# \n",
        "# def get_word_vectors(docs):\n",
        "#     return [nlp(doc).vector for doc in docs]\n",
        "# \n",
        "# def cann_pred(user_input):\n",
        "#   request = [f'{user_input}']\n",
        "#   custom = get_word_vectors(request)\n",
        "#   output = rfc_lg.predict(custom)[0]\n",
        "#   # output2 = rfc_lg_strains.predict(custom)[0] # [Stretch goal - 2nd model]\n",
        "# \n",
        "#   if output == 'hybrid':\n",
        "#     prob = rfc_lg.predict_proba(custom)[0][0]\n",
        "#   \n",
        "#   elif output == 'indica':\n",
        "#     prob = rfc_lg.predict_proba(custom)[0][1]\n",
        "# \n",
        "#   else:\n",
        "#     prob = rfc_lg.predict_proba(custom)[0][2]\n",
        "# \n",
        "#   return(f\"We're {prob*100:.0f}% confident you should try the {output} strain!\")\n",
        "# \n",
        "#   # This is a stretch goal\n",
        "#   # return(f\"We're {prob*100:.0f}% confident you should try the {output} strain and {output2} fits your criteria the most!\")"
      ],
      "execution_count": 33,
      "outputs": []
    }
  ]
}